{
 "cells": [
  {
   "cell_type": "markdown",
   "id": "613acfe2-45c3-4f42-99bc-83fbac2e8225",
   "metadata": {},
   "source": [
    "# Notebook Example"
   ]
  },
  {
   "cell_type": "markdown",
   "id": "1f734e27-5c6f-46ae-899a-24ebfa8a8d0e",
   "metadata": {},
   "source": [
    "You can create notebooks to show how to use your package. These will be automatically compiled and run by `mkdocs`, depending on the settings in your `mkdocs.yml` file."
   ]
  },
  {
   "cell_type": "code",
   "execution_count": 3,
   "id": "f6b972c6-4467-4559-b1e3-561f261c80b0",
   "metadata": {},
   "outputs": [],
   "source": [
    "from packagename.module import example_function"
   ]
  },
  {
   "cell_type": "code",
   "execution_count": 2,
   "id": "b7d40722-73d9-449f-99f0-7c2e80c0a56e",
   "metadata": {},
   "outputs": [
    {
     "data": {
      "text/plain": [
       "np.int64(1)"
      ]
     },
     "execution_count": 2,
     "metadata": {},
     "output_type": "execute_result"
    }
   ],
   "source": [
    "example_function(1)"
   ]
  }
 ],
 "metadata": {
  "kernelspec": {
   "display_name": "Python 3 (ipykernel)",
   "language": "python",
   "name": "python3"
  },
  "language_info": {
   "codemirror_mode": {
    "name": "ipython",
    "version": 3
   },
   "file_extension": ".py",
   "mimetype": "text/x-python",
   "name": "python",
   "nbconvert_exporter": "python",
   "pygments_lexer": "ipython3",
   "version": "3.9.13"
  }
 },
 "nbformat": 4,
 "nbformat_minor": 5
}
